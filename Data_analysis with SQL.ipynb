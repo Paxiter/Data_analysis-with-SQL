{
 "cells": [
  {
   "cell_type": "code",
   "execution_count": 1,
   "id": "c59ff719-7a34-43c0-9720-c98f9324da93",
   "metadata": {},
   "outputs": [
    {
     "name": "stdout",
     "output_type": "stream",
     "text": [
      "Database created and connected successfully!\n"
     ]
    }
   ],
   "source": [
    "import sqlite3\n",
    "\n",
    "# Create a database (or connect if it already exists)\n",
    "conn = sqlite3.connect(\"paxiter.db\")\n",
    "\n",
    "# Create a cursor object to interact with the database\n",
    "cursor = conn.cursor()\n",
    "\n",
    "# Check if the connection is successful\n",
    "print(\"Database created and connected successfully!\")"
   ]
  },
  {
   "cell_type": "code",
   "execution_count": 3,
   "id": "9d8f7546-0fc5-4792-b533-9ac612db44f1",
   "metadata": {},
   "outputs": [
    {
     "name": "stdout",
     "output_type": "stream",
     "text": [
      "Database file exists: False\n"
     ]
    }
   ],
   "source": [
    "import os\n",
    "\n",
    "# Check if the database file exists\n",
    "print(\"Database file exists:\", os.path.exists(\"my_database.db\"))\n"
   ]
  },
  {
   "cell_type": "code",
   "execution_count": 4,
   "id": "698045d4-e25d-4be3-b0ca-57fa45aa5749",
   "metadata": {},
   "outputs": [
    {
     "name": "stdout",
     "output_type": "stream",
     "text": [
      "Existing tables: [('company_employees',)]\n"
     ]
    }
   ],
   "source": [
    "#To check if there are any tables in my_database.db\n",
    "cursor.execute(\"SELECT name FROM sqlite_master WHERE type='table'\")\n",
    "print(\"Existing tables:\", cursor.fetchall())\n"
   ]
  },
  {
   "cell_type": "code",
   "execution_count": 5,
   "id": "0fec8e87-a866-4813-9183-de9f5b7183ab",
   "metadata": {},
   "outputs": [
    {
     "name": "stdout",
     "output_type": "stream",
     "text": [
      "Table created successfully!\n"
     ]
    }
   ],
   "source": [
    "# Create table\n",
    "cursor.execute(\"\"\"\n",
    "    CREATE TABLE IF NOT EXISTS company_employees (\n",
    "        id INTEGER PRIMARY KEY,\n",
    "        name TEXT,\n",
    "        age INTEGER,\n",
    "        department TEXT,\n",
    "        salary REAL\n",
    "    )\n",
    "\"\"\")\n",
    "conn.commit()  # Save changes\n",
    "print(\"Table created successfully!\")\n"
   ]
  },
  {
   "cell_type": "code",
   "execution_count": 6,
   "id": "ffffdbcc-585b-4049-bb75-c3064e071dec",
   "metadata": {},
   "outputs": [],
   "source": [
    "#Insert Sample Data to the Table\n",
    "\n",
    "cursor.execute(\"INSERT INTO company_employees (name, age, department, salary) VALUES ('Alice', 30, 'HR', 50000)\")\n",
    "cursor.execute(\"INSERT INTO company_employees (name, age, department, salary) VALUES ('Bob', 25, 'IT', 60000)\")\n",
    "cursor.execute(\"INSERT INTO company_employees (name, age, department, salary) VALUES ('Charlie', 35, 'Finance', 70000)\")\n",
    "conn.commit()\n"
   ]
  },
  {
   "cell_type": "code",
   "execution_count": null,
   "id": "9592e668-617b-4066-96c3-8ba877b81926",
   "metadata": {},
   "outputs": [],
   "source": []
  },
  {
   "cell_type": "code",
   "execution_count": 8,
   "id": "d8270f9c-2934-4141-8498-4138b7916a30",
   "metadata": {},
   "outputs": [
    {
     "name": "stdout",
     "output_type": "stream",
     "text": [
      "(1, 'Alice', 30, 'HR', 50000.0)\n",
      "(2, 'Bob', 25, 'IT', 60000.0)\n",
      "(3, 'Charlie', 35, 'Finance', 70000.0)\n",
      "(4, 'Alice', 30, 'HR', 50000.0)\n",
      "(5, 'Bob', 25, 'IT', 60000.0)\n",
      "(6, 'Charlie', 35, 'Finance', 70000.0)\n"
     ]
    }
   ],
   "source": [
    "#To Query the Data\n",
    "cursor.execute(\"SELECT * FROM company_employees\")\n",
    "rows = cursor.fetchall()\n",
    "\n",
    "# Display results\n",
    "for row in rows:\n",
    "    print(row)\n"
   ]
  },
  {
   "cell_type": "code",
   "execution_count": 9,
   "id": "7dd518ae-c8d5-4763-bf99-60a3d6d6216b",
   "metadata": {},
   "outputs": [],
   "source": [
    "# To perform common/basic SQL Queries Data Analysis using the same database created"
   ]
  },
  {
   "cell_type": "code",
   "execution_count": 10,
   "id": "73e77830-ff2a-4a0b-a916-22e609b5e848",
   "metadata": {},
   "outputs": [
    {
     "name": "stdout",
     "output_type": "stream",
     "text": [
      "(6,)\n"
     ]
    }
   ],
   "source": [
    "#1 To count the number of employees\n",
    "cursor.execute(\"SELECT COUNT(*) FROM company_employees\")\n",
    "print(cursor.fetchone())\n"
   ]
  },
  {
   "cell_type": "code",
   "execution_count": 11,
   "id": "37c3d013-0a05-46a4-ab06-72f7c94c4b65",
   "metadata": {},
   "outputs": [
    {
     "name": "stdout",
     "output_type": "stream",
     "text": [
      "(60000.0,)\n"
     ]
    }
   ],
   "source": [
    "#2 To find the average salary\n",
    "cursor.execute(\"SELECT AVG(salary) FROM company_employees\")\n",
    "print(cursor.fetchone())\n"
   ]
  },
  {
   "cell_type": "code",
   "execution_count": 12,
   "id": "b1b75f80-6653-4c17-8b5d-7963f93e1088",
   "metadata": {},
   "outputs": [
    {
     "name": "stdout",
     "output_type": "stream",
     "text": [
      "[(2, 'Bob', 25, 'IT', 60000.0), (5, 'Bob', 25, 'IT', 60000.0)]\n"
     ]
    }
   ],
   "source": [
    "#3 Lising the employees in the IT department\n",
    "cursor.execute(\"SELECT * FROM company_employees WHERE department = 'IT'\")\n",
    "print(cursor.fetchall())\n"
   ]
  },
  {
   "cell_type": "code",
   "execution_count": 13,
   "id": "94ec0f66-983d-49c6-831d-7248b1991bfd",
   "metadata": {},
   "outputs": [
    {
     "name": "stdout",
     "output_type": "stream",
     "text": [
      "[(2, 'Bob', 25, 'IT', 60000.0), (3, 'Charlie', 35, 'Finance', 70000.0), (5, 'Bob', 25, 'IT', 60000.0), (6, 'Charlie', 35, 'Finance', 70000.0)]\n"
     ]
    }
   ],
   "source": [
    "#4 Get employees earning more than $50,000:\n",
    "cursor.execute(\"SELECT * FROM company_employees WHERE salary > 50000\")\n",
    "print(cursor.fetchall())\n"
   ]
  },
  {
   "cell_type": "code",
   "execution_count": null,
   "id": "b1f81224-8b0c-4429-882d-5b89c74458be",
   "metadata": {},
   "outputs": [],
   "source": []
  }
 ],
 "metadata": {
  "kernelspec": {
   "display_name": "Python 3 (ipykernel)",
   "language": "python",
   "name": "python3"
  },
  "language_info": {
   "codemirror_mode": {
    "name": "ipython",
    "version": 3
   },
   "file_extension": ".py",
   "mimetype": "text/x-python",
   "name": "python",
   "nbconvert_exporter": "python",
   "pygments_lexer": "ipython3",
   "version": "3.12.7"
  }
 },
 "nbformat": 4,
 "nbformat_minor": 5
}
